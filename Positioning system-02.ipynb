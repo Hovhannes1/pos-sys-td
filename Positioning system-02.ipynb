{
 "cells": [
  {
   "cell_type": "markdown",
   "id": "5f7d46bb",
   "metadata": {},
   "source": [
    "## RSSI sample"
   ]
  },
  {
   "cell_type": "code",
   "execution_count": 1,
   "id": "7938a4f9",
   "metadata": {},
   "outputs": [],
   "source": [
    "import math\n",
    "class RSSISample:\n",
    "    #constroctor and only leaving two floating numbers in rssi\n",
    "    def __init__(self, mac_address: str, rssi: float) -> None:\n",
    "        self.mac_address = mac_address\n",
    "        self.rssi = math.floor(rssi*100)/100 \n",
    "    #printing function \n",
    "    def printing(self):\n",
    "        strin= str(self.mac_address)+\",\"+str(self.rssi)\n",
    "        return strin"
   ]
  },
  {
   "cell_type": "markdown",
   "id": "afa4e6b1",
   "metadata": {},
   "source": [
    "## Fingerprint sample\n"
   ]
  },
  {
   "cell_type": "code",
   "execution_count": 2,
   "id": "22feac6b",
   "metadata": {},
   "outputs": [],
   "source": [
    "from math import log10\n",
    "class FingerprintSample:\n",
    "    #initilize\n",
    "    def __init__(self, samples: list[RSSISample]) -> None:\n",
    "        self.samples = samples\n",
    "        \n",
    "    #printing function\n",
    "    def printing(self):\n",
    "        strin=\"\"\n",
    "        for l in self.samples:\n",
    "            strin=strin+\",\"+l.printing()\n",
    "        return strin"
   ]
  },
  {
   "cell_type": "markdown",
   "id": "af135e6d",
   "metadata": {},
   "source": [
    "## Location"
   ]
  },
  {
   "cell_type": "code",
   "execution_count": 22,
   "id": "f8afd8bc",
   "metadata": {},
   "outputs": [],
   "source": [
    "class SimpleLocation:\n",
    "    #initilize\n",
    "    def __init__(self, x: float, y: float, z: float) -> None:\n",
    "        self.x = x\n",
    "        self.y = y\n",
    "        self.z = z\n",
    "        \n",
    "    #defining funtion to be able to compare two objects\n",
    "    def __eq__(self, pos):\n",
    "        return self.x==pos.x and self.y==pos.y and self.z==pos.z\n",
    "    def __hash__(self):\n",
    "        return hash((self.x, self.y, self.z))\n",
    "    def __ne__(self, other):\n",
    "        return not(self == other)\n",
    "  \n",
    "\n",
    "    #printing function\n",
    "    def printing(self):\n",
    "        strin=str(self.x)+\",\"+str(self.y)+\",\"+str(self.z)\n",
    "        return strin\n",
    "    "
   ]
  },
  {
   "cell_type": "markdown",
   "id": "15a9d278",
   "metadata": {},
   "source": [
    "## Fingerprint"
   ]
  },
  {
   "cell_type": "code",
   "execution_count": 4,
   "id": "201d538f",
   "metadata": {},
   "outputs": [],
   "source": [
    "class Fingerprint:\n",
    "    \n",
    "    #initilize\n",
    "    def __init__(self, position: SimpleLocation, sample: FingerprintSample) -> None:\n",
    "        self.position = position\n",
    "        self.sample = sample\n",
    "        \n",
    "    #printing function\n",
    "    def printing(self):\n",
    "        print(str(self.position.printing())+\",0\"+str(self.sample.printing()))"
   ]
  },
  {
   "cell_type": "markdown",
   "id": "660a032b",
   "metadata": {},
   "source": [
    "## Fingerprint database\n"
   ]
  },
  {
   "cell_type": "code",
   "execution_count": 5,
   "id": "1408119d",
   "metadata": {},
   "outputs": [],
   "source": [
    "import csv\n",
    "import math\n",
    "from math import log10\n",
    "\n",
    "class FingerprintDatabase:\n",
    "    \n",
    "    #initilize\n",
    "    def __init__(self) -> None:\n",
    "        #the db where i read from csv in will be a dictionary\n",
    "        self.db = {}\n",
    "        #the result list will be saved in here, it is a list of fingerprints\n",
    "        self.res=[]\n",
    "        \n",
    "    #this function will read from csv, it pretty complex because it will read into a \n",
    "    #dictionary and check for mac and position duplications\n",
    "    def readingCSVdata(self):\n",
    "        with open('data.csv', newline='') as f:\n",
    "            reader = csv.reader(f)\n",
    "            data = list(reader)\n",
    "        for i in range(len(data)): \n",
    "            pos= SimpleLocation(float(data[i][0]),float(data[i][1]),float(data[i][2]))\n",
    "            if(not(pos in self.db.keys())):\n",
    "                j=4\n",
    "                address={}\n",
    "                while(j<len(data[i])):\n",
    "                    if(data[i][j] in address.keys()):\n",
    "                        address[data[i][j]].append(data[i][j+1])\n",
    "                    else:\n",
    "                        lis =[data[i][j+1]]\n",
    "                        address.update({data[i][j]: lis})\n",
    "                    j=j+2\n",
    "                self.db.update({pos: address})\n",
    "            else:\n",
    "                j=4\n",
    "                while(j<len(data[i])):\n",
    "                    if(data[i][j] in self.db[pos].values()):\n",
    "                        self.db[pos][data[i][j]].append(data[i][j+1])\n",
    "                    else:\n",
    "                        lis =[data[i][j+1]]\n",
    "                        self.db[pos].update({data[i][j]: lis})\n",
    "                    j=j+2\n",
    "                self.db.update({pos: address})\n",
    "    \n",
    "    #this function is responsible for the average calculations\n",
    "    def rssiValcheck(self):\n",
    "        for i in self.db.values():\n",
    "            for x in i :\n",
    "                try:\n",
    "                    lis=i[x] \n",
    "                    if len(lis)>1:\n",
    "                        somme = 0\n",
    "                        for j in lis:\n",
    "                            somme=somme + 10**(float(j)/ 10.)\n",
    "                        avg=somme/len(lis)\n",
    "                        val= 10. * math.log10(avg)\n",
    "                        i.update({x: val})\n",
    "                    else: \n",
    "                        i.update({x: float(lis[0])})      \n",
    "                except:\n",
    "                    pass\n",
    "                       \n",
    "     #this function is the one responsible for switching from dictionary db to res list              \n",
    "    def resultarray(self):\n",
    "        for x in self.db:\n",
    "            y=self.db[x]\n",
    "            rssisamp=[]\n",
    "            for i in y:\n",
    "                rssisamp.append(RSSISample(i,y[i]))\n",
    "            fin=FingerprintSample(rssisamp)\n",
    "            self.res.append(Fingerprint(x,fin)) \n",
    "      \n",
    "    #this function is the one responsible for checking None objects and deleting them from list and same time printing\n",
    "    def printing(self):\n",
    "        for r in self.res:\n",
    "            if(r.printing() == None):\n",
    "                self.res.remove(r)\n",
    "            else:\n",
    "                print(r.printing())"
   ]
  },
  {
   "cell_type": "markdown",
   "id": "660898f8",
   "metadata": {},
   "source": [
    "## TD1"
   ]
  },
  {
   "cell_type": "markdown",
   "id": "beb7f34e",
   "metadata": {},
   "source": [
    "Now let check the result in our main file"
   ]
  },
  {
   "cell_type": "code",
   "execution_count": 53,
   "id": "2ff771a7",
   "metadata": {
    "scrolled": true
   },
   "outputs": [
    {
     "name": "stdout",
     "output_type": "stream",
     "text": [
      "5.4,29.59,1.2,0,00:13:ce:8f:77:43,-61.0,00:13:ce:97:78:79,-75.0,00:13:ce:8f:78:d9,-28.0,00:13:ce:95:de:7e,-78.0,00:13:ce:95:e1:6f,-67.0\n",
      "3.0,29.59,1.2,0,00:13:ce:97:78:79,-72.0,00:13:ce:95:de:7e,-76.0,00:13:ce:8f:77:43,-69.0,00:13:ce:95:e1:6f,-59.0,00:13:ce:8f:78:d9,-26.0\n",
      "5.4,30.59,1.2,0,00:13:ce:95:e1:6f,-52.0,00:13:ce:8f:78:d9,-37.0,00:13:ce:8f:77:43,-69.0,00:13:ce:95:de:7e,-74.0,00:13:ce:97:78:79,-84.0\n",
      "3.0,30.59,1.2,0,00:13:ce:97:78:79,-77.0,00:13:ce:8f:77:43,-67.0,00:13:ce:8f:78:d9,-28.0,00:13:ce:95:e1:6f,-58.0,00:13:ce:95:de:7e,-73.0\n",
      "5.4,31.59,1.2,0,00:13:ce:95:e1:6f,-53.0,00:13:ce:8f:77:43,-71.0,00:13:ce:8f:78:d9,-34.0,00:13:ce:95:de:7e,-73.0,00:13:ce:97:78:79,-74.0\n",
      "3.0,31.59,1.2,0,00:13:ce:8f:77:43,-71.0,00:13:ce:8f:78:d9,-37.0,00:13:ce:95:e1:6f,-68.0\n",
      "5.4,26.04,1.2,0,00:13:ce:8f:78:d9,-34.0,00:13:ce:8f:77:43,-64.0,00:13:ce:95:e1:6f,-59.0,00:13:ce:95:de:7e,-70.0,00:13:ce:97:78:79,-79.0\n",
      "3.0,26.04,1.2,0,00:13:ce:95:e1:6f,-49.0,00:13:ce:8f:78:d9,-39.0,00:13:ce:8f:77:43,-75.0,00:13:ce:95:de:7e,-70.0,00:13:ce:97:78:79,-82.0\n",
      "5.4,27.04,1.2,0,00:13:ce:95:de:7e,-72.0,00:13:ce:8f:77:43,-66.0,00:13:ce:8f:78:d9,-46.0,00:13:ce:95:e1:6f,-61.0,00:13:ce:97:78:79,-84.0\n",
      "3.0,27.04,1.2,0,00:13:ce:97:78:79,-77.0,00:13:ce:95:e1:6f,-47.0,00:13:ce:8f:78:d9,-35.0,00:13:ce:8f:77:43,-62.0,00:13:ce:95:de:7e,-77.0\n",
      "5.4,28.04,1.2,0,00:13:ce:95:de:7e,-74.0,00:13:ce:97:78:79,-76.0,00:13:ce:95:e1:6f,-48.0,00:13:ce:8f:78:d9,-29.0,00:13:ce:8f:77:43,-64.0\n",
      "3.0,28.04,1.2,0,00:13:ce:8f:78:d9,-38.0,00:13:ce:95:e1:6f,-55.0,00:13:ce:8f:77:43,-68.0,00:13:ce:95:de:7e,-75.0,00:13:ce:97:78:79,-81.0\n",
      "5.4,22.43,1.2,0,00:13:ce:97:78:79,-64.0,00:13:ce:95:de:7e,-67.0,00:13:ce:8f:78:d9,-48.0,00:13:ce:95:e1:6f,-48.0,00:13:ce:8f:77:43,-70.0\n",
      "3.0,22.43,1.2,0,00:13:ce:97:78:79,-76.0,00:13:ce:8f:77:43,-72.0,00:13:ce:95:e1:6f,-60.0,00:13:ce:8f:78:d9,-36.0,00:13:ce:95:de:7e,-73.0\n",
      "5.4,23.43,1.2,0,00:13:ce:8f:78:d9,-43.0,00:13:ce:95:e1:6f,-55.0,00:13:ce:8f:77:43,-58.0,00:13:ce:95:de:7e,-68.0\n",
      "3.0,23.43,1.2,0,00:13:ce:95:e1:6f,-58.0,00:13:ce:95:de:7e,-64.0,00:13:ce:8f:78:d9,-37.0,00:13:ce:8f:77:43,-61.0,00:13:ce:97:78:79,-75.0\n",
      "5.4,24.43,1.2,0,00:13:ce:97:78:79,-79.83,00:13:ce:95:e1:6f,-56.0,00:13:ce:8f:78:d9,-40.0,00:13:ce:8f:77:43,-61.0,00:13:ce:95:de:7e,-65.0\n",
      "3.0,24.43,1.2,0,00:13:ce:95:e1:6f,-57.0,00:13:ce:8f:77:43,-60.0,00:13:ce:95:de:7e,-75.0,00:13:ce:8f:78:d9,-36.0,00:13:ce:97:78:79,-78.0\n",
      "5.4,19.5,1.2,0,00:13:ce:8f:78:d9,-55.0,00:13:ce:95:e1:6f,-67.0,00:13:ce:95:de:7e,-65.0,00:13:ce:8f:77:43,-79.0,00:13:ce:97:78:79,-75.0\n",
      "3.0,19.5,1.2,0,00:13:ce:8f:78:d9,-43.0,00:13:ce:8f:77:43,-75.0,00:13:ce:95:de:7e,-61.0,00:13:ce:95:e1:6f,-61.0,00:13:ce:97:78:79,-73.0\n",
      "5.4,20.5,1.2,0,00:13:ce:8f:77:43,-79.0,00:13:ce:97:78:79,-77.0,00:13:ce:8f:78:d9,-43.0,00:13:ce:95:e1:6f,-65.0,00:13:ce:95:de:7e,-61.0\n",
      "3.0,20.5,1.2,0,00:13:ce:95:de:7e,-65.0,00:13:ce:97:78:79,-68.0,00:13:ce:8f:77:43,-73.0,00:13:ce:8f:78:d9,-58.0,00:13:ce:95:e1:6f,-54.0\n",
      "5.4,21.5,1.2,0,00:13:ce:8f:77:43,-75.0,00:13:ce:95:e1:6f,-66.0,00:13:ce:95:de:7e,-67.0,00:13:ce:8f:78:d9,-52.0,00:13:ce:97:78:79,-64.0\n",
      "3.0,21.5,1.2,0,00:13:ce:95:e1:6f,-53.0,00:13:ce:8f:77:43,-76.0,00:13:ce:95:de:7e,-69.0,00:13:ce:8f:78:d9,-52.0,00:13:ce:97:78:79,-71.0\n",
      "5.4,15.21,1.2,0,00:13:ce:8f:78:d9,-57.0,00:13:ce:95:e1:6f,-64.0,00:13:ce:8f:77:43,-74.0,00:13:ce:95:de:7e,-63.0,00:13:ce:97:78:79,-71.0\n",
      "3.0,15.21,1.2,0,00:13:ce:8f:77:43,-72.0,00:13:ce:95:de:7e,-66.0,00:13:ce:95:e1:6f,-64.0,00:13:ce:8f:78:d9,-51.0,00:13:ce:97:78:79,-77.0\n",
      "5.4,16.21,1.2,0,00:13:ce:8f:78:d9,-51.0,00:13:ce:95:de:7e,-49.0,00:13:ce:8f:77:43,-77.0,00:13:ce:97:78:79,-69.0,00:13:ce:95:e1:6f,-61.0\n",
      "3.0,16.21,1.2,0,00:13:ce:95:de:7e,-60.0,00:13:ce:8f:78:d9,-48.0,00:13:ce:95:e1:6f,-61.0,00:13:ce:8f:77:43,-71.0,00:13:ce:97:78:79,-76.0\n",
      "5.4,17.21,1.2,0,00:13:ce:8f:78:d9,-45.0,00:13:ce:95:e1:6f,-66.0,00:13:ce:95:de:7e,-59.0,00:13:ce:97:78:79,-82.0,00:13:ce:8f:77:43,-72.0\n",
      "3.0,17.21,1.2,0,00:13:ce:95:e1:6f,-61.0,00:13:ce:8f:77:43,-65.0,00:13:ce:97:78:79,-77.0,00:13:ce:95:de:7e,-55.0,00:13:ce:8f:78:d9,-46.0\n",
      "5.4,11.67,1.2,0,00:13:ce:97:78:79,-76.0,00:13:ce:95:e1:6f,-70.0,00:13:ce:8f:77:43,-70.0,00:13:ce:8f:78:d9,-57.0,00:13:ce:95:de:7e,-55.0\n",
      "3.0,11.67,1.2,0,00:13:ce:8f:78:d9,-61.0,00:13:ce:95:de:7e,-57.0,00:13:ce:8f:77:43,-64.0,00:13:ce:95:e1:6f,-71.0\n",
      "5.4,12.67,1.2,0,00:13:ce:95:e1:6f,-72.0,00:13:ce:8f:78:d9,-59.0,00:13:ce:95:de:7e,-54.0,00:13:ce:8f:77:43,-69.0,00:13:ce:97:78:79,-74.0\n",
      "3.0,12.67,1.2,0,00:13:ce:8f:77:43,-66.0,00:13:ce:8f:78:d9,-61.0,00:13:ce:95:de:7e,-57.0,00:13:ce:97:78:79,-78.0,00:13:ce:95:e1:6f,-74.0\n",
      "5.4,13.67,1.2,0,00:13:ce:8f:77:43,-74.0,00:13:ce:8f:78:d9,-62.0,00:13:ce:95:e1:6f,-73.0,00:13:ce:95:de:7e,-54.0,00:13:ce:97:78:79,-69.0\n",
      "3.0,13.67,1.2,0,00:13:ce:8f:77:43,-62.0,00:13:ce:8f:78:d9,-63.0,00:13:ce:95:de:7e,-54.0,00:13:ce:95:e1:6f,-76.0\n",
      "5.4,7.33,1.2,0,00:13:ce:95:de:7e,-58.0,00:13:ce:8f:77:43,-55.0,00:13:ce:8f:78:d9,-64.0,00:13:ce:95:e1:6f,-78.0\n",
      "3.0,7.33,1.2,0,00:13:ce:8f:78:d9,-62.0,00:13:ce:8f:77:43,-52.0,00:13:ce:95:de:7e,-52.0,00:13:ce:95:e1:6f,-68.99\n",
      "5.4,8.33,1.2,0,00:13:ce:95:de:7e,-56.0,00:13:ce:8f:77:43,-57.0,00:13:ce:8f:78:d9,-63.0,00:13:ce:95:e1:6f,-77.0\n",
      "3.0,8.33,1.2,0,00:13:ce:8f:77:43,-64.0,00:13:ce:8f:78:d9,-59.0,00:13:ce:95:de:7e,-54.0,00:13:ce:95:e1:6f,-74.0\n",
      "5.4,9.33,1.2,0,00:13:ce:95:e1:6f,-76.0,00:13:ce:8f:78:d9,-64.0,00:13:ce:8f:77:43,-58.0,00:13:ce:95:de:7e,-56.0\n",
      "3.0,9.33,1.2,0,00:13:ce:8f:78:d9,-64.0,00:13:ce:8f:77:43,-59.0,00:13:ce:95:de:7e,-58.0,00:13:ce:95:e1:6f,-75.0\n",
      "5.4,4.44,1.2,0,00:13:ce:8f:78:d9,-69.0,00:13:ce:8f:77:43,-44.0,00:13:ce:95:e1:6f,-71.0,00:13:ce:95:de:7e,-65.0,00:13:ce:97:78:79,-82.0\n",
      "3.0,4.44,1.2,0,00:13:ce:8f:77:43,-50.0,00:13:ce:8f:78:d9,-58.0,00:13:ce:95:de:7e,-67.0\n",
      "5.4,5.44,1.2,0,00:13:ce:8f:77:43,-51.0,00:13:ce:8f:78:d9,-68.0,00:13:ce:95:de:7e,-57.0\n",
      "3.0,5.44,1.2,0,00:13:ce:8f:78:d9,-73.0,00:13:ce:8f:77:43,-64.0,00:13:ce:95:de:7e,-61.0,00:13:ce:95:e1:6f,-77.0\n",
      "5.4,6.44,1.2,0,00:13:ce:8f:77:43,-55.0,00:13:ce:95:de:7e,-65.0,00:13:ce:8f:78:d9,-64.0\n",
      "3.0,6.44,1.2,0,00:13:ce:8f:78:d9,-59.0,00:13:ce:8f:77:43,-54.0,00:13:ce:95:de:7e,-62.0,00:13:ce:95:e1:6f,-73.0\n",
      "6.0,1.0,1.2,0,00:13:ce:8f:77:43,-53.0,00:13:ce:95:e1:6f,-81.0,00:13:ce:8f:78:d9,-74.0,00:13:ce:95:de:7e,-73.0,00:13:ce:97:78:79,-81.0\n",
      "6.0,3.0,1.2,0,00:13:ce:8f:77:43,-55.0,00:13:ce:95:de:7e,-70.0,00:13:ce:8f:78:d9,-66.0\n",
      "7.0,2.0,1.2,0,00:13:ce:8f:78:d9,-70.0,00:13:ce:8f:77:43,-64.0,00:13:ce:95:de:7e,-75.0\n",
      "7.5,4.0,1.2,0,00:13:ce:8f:78:d9,-72.0,00:13:ce:8f:77:43,-61.0,00:13:ce:95:de:7e,-75.0\n",
      "7.5,6.0,1.2,0,00:13:ce:8f:77:43,-49.0,00:13:ce:95:de:7e,-67.0,00:13:ce:97:78:79,-78.0,00:13:ce:8f:78:d9,-70.0\n",
      "7.5,8.0,1.2,0,00:13:ce:95:de:7e,-69.0,00:13:ce:97:78:79,-72.0,00:13:ce:8f:78:d9,-67.0,00:13:ce:8f:77:43,-62.0,00:13:ce:95:e1:6f,-74.49\n",
      "7.5,10.0,1.2,0,00:13:ce:97:78:79,-66.0,00:13:ce:8f:77:43,-54.0,00:13:ce:95:de:7e,-65.0,00:13:ce:95:e1:6f,-73.0,00:13:ce:8f:78:d9,-62.0\n",
      "8.0,12.0,1.2,0,00:13:ce:97:78:79,-65.0,00:13:ce:8f:78:d9,-61.0,00:13:ce:95:e1:6f,-76.0,00:13:ce:95:de:7e,-65.0,00:13:ce:8f:77:43,-61.0\n",
      "8.0,14.0,1.2,0,00:13:ce:97:78:79,-67.0,00:13:ce:95:e1:6f,-72.0,00:13:ce:95:de:7e,-68.0,00:13:ce:8f:78:d9,-65.0,00:13:ce:8f:77:43,-67.0\n",
      "8.0,16.0,1.2,0,00:13:ce:97:78:79,-68.0,00:13:ce:95:de:7e,-65.0,00:13:ce:8f:77:43,-64.0,00:13:ce:8f:78:d9,-65.0,00:13:ce:95:e1:6f,-73.0\n",
      "9.0,12.0,1.2,0,00:13:ce:95:e1:6f,-72.0,00:13:ce:95:de:7e,-67.0,00:13:ce:97:78:79,-66.0,00:13:ce:8f:78:d9,-57.0,00:13:ce:8f:77:43,-59.0\n",
      "9.0,14.0,1.2,0,00:13:ce:97:78:79,-65.0,00:13:ce:95:e1:6f,-73.0,00:13:ce:8f:78:d9,-51.0,00:13:ce:8f:77:43,-60.0,00:13:ce:95:de:7e,-65.0\n",
      "9.0,16.0,1.2,0,00:13:ce:97:78:79,-64.0,00:13:ce:95:e1:6f,-72.0,00:13:ce:95:de:7e,-65.0,00:13:ce:8f:77:43,-73.0,00:13:ce:8f:78:d9,-67.0\n",
      "9.0,18.0,1.2,0,00:13:ce:95:e1:6f,-76.81,00:13:ce:8f:78:d9,-57.5,00:13:ce:95:de:7e,-60.29,00:13:ce:8f:77:43,-60.93,00:13:ce:97:78:79,-68.15\n",
      "7.5,20.0,1.2,0,00:13:ce:8f:77:43,-70.0,00:13:ce:8f:78:d9,-51.0,00:13:ce:95:e1:6f,-62.0,00:13:ce:95:de:7e,-60.0,00:13:ce:97:78:79,-70.0\n",
      "7.5,22.0,1.2,0,00:13:ce:97:78:79,-68.0,00:13:ce:95:e1:6f,-63.0,00:13:ce:8f:78:d9,-46.0,00:13:ce:95:de:7e,-61.0,00:13:ce:8f:77:43,-71.0\n",
      "8.0,24.0,1.2,0,00:13:ce:8f:78:d9,-51.0,00:13:ce:97:78:79,-71.0,00:13:ce:95:e1:6f,-70.0,00:13:ce:95:de:7e,-59.0,00:13:ce:8f:77:43,-78.0\n",
      "9.0,24.0,1.2,0,00:13:ce:95:e1:6f,-65.0,00:13:ce:95:de:7e,-63.0,00:13:ce:8f:78:d9,-61.0,00:13:ce:97:78:79,-69.0,00:13:ce:8f:77:43,-82.0\n",
      "7.5,26.0,1.2,0,00:13:ce:97:78:79,-71.0,00:13:ce:95:de:7e,-72.0,00:13:ce:95:e1:6f,-66.0,00:13:ce:8f:78:d9,-44.0,00:13:ce:8f:77:43,-79.0\n",
      "7.0,28.0,1.2,0,00:13:ce:8f:78:d9,-47.0,00:13:ce:95:e1:6f,-64.0,00:13:ce:95:de:7e,-72.0,00:13:ce:97:78:79,-77.0,00:13:ce:8f:77:43,-83.0\n",
      "7.5,30.0,1.2,0,00:13:ce:97:78:79,-66.0,00:13:ce:8f:78:d9,-43.0,00:13:ce:95:e1:6f,-61.0,00:13:ce:95:de:7e,-82.0,00:13:ce:8f:77:43,-80.0\n",
      "7.0,7.0,1.2,0,00:13:ce:8f:78:d9,-67.0,00:13:ce:8f:77:43,-59.0,00:13:ce:95:de:7e,-59.0,00:13:ce:97:78:79,-75.0,00:13:ce:95:e1:6f,-79.0\n",
      "4.2,11.67,4.2,0,00:13:ce:95:e1:6f,-54.0,00:13:ce:95:de:7e,-30.0,00:13:ce:8f:77:43,-77.0,00:13:ce:8f:78:d9,-73.0,00:13:ce:97:78:79,-65.0\n",
      "1.8,11.67,4.2,0,00:13:ce:95:e1:6f,-54.0,00:13:ce:95:de:7e,-30.0,00:13:ce:8f:77:43,-77.0,00:13:ce:8f:78:d9,-73.0,00:13:ce:97:78:79,-65.0\n",
      "4.2,12.67,4.2,0,00:13:ce:95:e1:6f,-54.0,00:13:ce:95:de:7e,-30.0,00:13:ce:8f:77:43,-77.0,00:13:ce:8f:78:d9,-73.0,00:13:ce:97:78:79,-65.0\n",
      "1.8,12.67,4.2,0,00:13:ce:8f:78:d9,-76.0,00:13:ce:95:e1:6f,-51.0,00:13:ce:95:de:7e,-42.0,00:13:ce:8f:77:43,-79.0,00:13:ce:97:78:79,-75.0\n",
      "4.2,13.67,4.2,0,00:13:ce:95:e1:6f,-57.0,00:13:ce:95:de:7e,-30.0,00:13:ce:97:78:79,-76.03,00:13:ce:8f:77:43,-73.0,00:13:ce:8f:78:d9,-78.0\n",
      "1.8,13.67,4.2,0,00:13:ce:95:e1:6f,-54.0,00:13:ce:95:de:7e,-30.0,00:13:ce:8f:77:43,-77.0,00:13:ce:8f:78:d9,-73.0,00:13:ce:97:78:79,-65.0\n",
      "4.2,8.09,4.2,0,00:13:ce:95:e1:6f,-52.0,00:13:ce:95:de:7e,-42.0,00:13:ce:8f:78:d9,-67.0,00:13:ce:97:78:79,-82.0,00:13:ce:8f:77:43,-72.0\n",
      "1.8,8.09,4.2,0,00:13:ce:95:e1:6f,-52.0,00:13:ce:95:de:7e,-42.0,00:13:ce:8f:78:d9,-67.0,00:13:ce:97:78:79,-82.0,00:13:ce:8f:77:43,-72.0\n",
      "4.2,9.09,4.2,0,00:13:ce:95:e1:6f,-52.0,00:13:ce:95:de:7e,-42.0,00:13:ce:8f:78:d9,-67.0,00:13:ce:97:78:79,-82.0,00:13:ce:8f:77:43,-72.0\n",
      "1.8,9.09,4.2,0,00:13:ce:95:e1:6f,-52.0,00:13:ce:95:de:7e,-42.0,00:13:ce:8f:78:d9,-67.0,00:13:ce:97:78:79,-82.0,00:13:ce:8f:77:43,-72.0\n",
      "4.2,10.09,4.2,0,00:13:ce:95:e1:6f,-52.0,00:13:ce:95:de:7e,-42.0,00:13:ce:8f:78:d9,-67.0,00:13:ce:97:78:79,-82.0,00:13:ce:8f:77:43,-72.0\n",
      "1.8,10.09,4.2,0,00:13:ce:95:e1:6f,-52.0,00:13:ce:95:de:7e,-42.0,00:13:ce:8f:78:d9,-67.0,00:13:ce:97:78:79,-82.0,00:13:ce:8f:77:43,-72.0\n",
      "6.0,28.0,4.2,0,00:13:ce:95:e1:6f,-35.0,00:13:ce:8f:78:d9,-64.0,00:13:ce:95:de:7e,-55.0\n",
      "5.0,27.0,4.2,0,00:13:ce:8f:78:d9,-67.0,00:13:ce:95:e1:6f,-31.0,00:13:ce:95:de:7e,-51.0\n",
      "4.0,26.0,4.2,0,00:13:ce:8f:78:d9,-61.0,00:13:ce:95:e1:6f,-38.0,00:13:ce:95:de:7e,-49.0\n",
      "4.0,28.0,4.2,0,00:13:ce:95:e1:6f,-40.0,00:13:ce:8f:78:d9,-58.0,00:13:ce:95:de:7e,-52.0\n",
      "3.0,27.0,4.2,0,00:13:ce:95:de:7e,-50.0,00:13:ce:95:e1:6f,-40.0,00:13:ce:8f:78:d9,-67.0\n",
      "2.0,26.0,4.2,0,00:13:ce:95:e1:6f,-42.0,00:13:ce:95:de:7e,-56.0,00:13:ce:8f:78:d9,-65.0\n",
      "2.0,28.0,4.2,0,00:13:ce:95:e1:6f,-35.0,00:13:ce:8f:78:d9,-60.0,00:13:ce:95:de:7e,-52.0\n",
      "1.0,27.0,4.2,0,00:13:ce:8f:78:d9,-69.0,00:13:ce:95:e1:6f,-42.0,00:13:ce:95:de:7e,-61.0\n",
      "6.0,20.0,4.2,0,00:13:ce:95:de:7e,-47.0,00:13:ce:95:e1:6f,-48.0,00:13:ce:8f:78:d9,-69.0\n",
      "6.0,22.0,4.2,0,00:13:ce:95:de:7e,-46.0,00:13:ce:8f:78:d9,-70.0,00:13:ce:95:e1:6f,-43.0\n",
      "6.0,24.0,4.2,0,00:13:ce:95:de:7e,-54.0,00:13:ce:95:e1:6f,-46.0,00:13:ce:8f:78:d9,-64.0\n",
      "5.0,19.0,4.2,0,00:13:ce:95:e1:6f,-41.0,00:13:ce:95:de:7e,-45.0,00:13:ce:8f:78:d9,-62.0\n",
      "5.0,21.0,4.2,0,00:13:ce:8f:78:d9,-71.0,00:13:ce:95:e1:6f,-42.0,00:13:ce:95:de:7e,-54.0,00:13:ce:97:78:79,-74.0\n",
      "5.0,23.0,4.2,0,00:13:ce:95:e1:6f,-53.0,00:13:ce:8f:78:d9,-66.0,00:13:ce:95:de:7e,-45.0\n",
      "5.0,25.0,4.2,0,00:13:ce:95:de:7e,-60.0,00:13:ce:95:e1:6f,-43.0,00:13:ce:8f:78:d9,-67.0\n",
      "4.0,20.0,4.2,0,00:13:ce:95:e1:6f,-46.0,00:13:ce:95:de:7e,-47.0,00:13:ce:8f:78:d9,-64.0,00:13:ce:97:78:79,-77.0\n",
      "4.0,22.0,4.2,0,00:13:ce:8f:78:d9,-65.0,00:13:ce:95:e1:6f,-38.0,00:13:ce:95:de:7e,-48.0\n",
      "4.0,24.0,4.2,0,00:13:ce:8f:78:d9,-63.0,00:13:ce:95:e1:6f,-89.0,00:13:ce:95:de:7e,-47.0\n",
      "3.0,19.0,4.2,0,00:13:ce:95:e1:6f,-37.0,00:13:ce:95:de:7e,-48.0,00:13:ce:8f:78:d9,-66.0,00:13:ce:97:78:79,-79.0\n",
      "2.0,19.0,4.2,0,00:13:ce:95:de:7e,-48.0,00:13:ce:8f:78:d9,-68.0,00:13:ce:95:e1:6f,-47.0\n",
      "2.0,21.0,4.2,0,00:13:ce:95:de:7e,-46.0,00:13:ce:95:e1:6f,-46.0,00:13:ce:8f:78:d9,-70.0,00:13:ce:97:78:79,-76.0\n",
      "2.0,23.0,4.2,0,00:13:ce:95:de:7e,-53.0,00:13:ce:95:e1:6f,-39.0,00:13:ce:8f:78:d9,-68.0\n",
      "2.0,25.0,4.2,0,00:13:ce:95:e1:6f,-45.0,00:13:ce:95:de:7e,-69.0,00:13:ce:8f:78:d9,-62.0\n",
      "1.0,20.0,4.2,0,00:13:ce:95:e1:6f,-47.0,00:13:ce:95:de:7e,-43.0,00:13:ce:8f:78:d9,-66.0,00:13:ce:97:78:79,-77.0\n",
      "1.0,22.0,4.2,0,00:13:ce:95:de:7e,-48.0,00:13:ce:8f:78:d9,-70.0,00:13:ce:95:e1:6f,-50.0\n",
      "1.0,24.0,4.2,0,00:13:ce:95:e1:6f,-48.0,00:13:ce:95:de:7e,-54.0,00:13:ce:8f:78:d9,-64.0\n",
      "5.4,15.3,4.2,0,00:13:ce:95:e1:6f,-53.0,00:13:ce:95:de:7e,-45.0\n",
      "3.0,15.3,4.2,0,00:13:ce:95:e1:6f,-54.0,00:13:ce:8f:78:d9,-69.0,00:13:ce:95:de:7e,-38.0\n",
      "5.4,16.3,4.2,0,00:13:ce:95:e1:6f,-49.0,00:13:ce:95:de:7e,-46.0,00:13:ce:8f:78:d9,-68.0\n",
      "3.0,16.3,4.2,0,00:13:ce:95:de:7e,-37.0,00:13:ce:95:e1:6f,-46.0,00:13:ce:8f:78:d9,-67.0\n",
      "5.4,17.3,4.2,0,00:13:ce:95:e1:6f,-46.0,00:13:ce:95:de:7e,-53.0,00:13:ce:8f:78:d9,-71.0\n",
      "3.0,17.3,4.2,0,00:13:ce:95:e1:6f,-53.0,00:13:ce:95:de:7e,-41.0,00:13:ce:8f:78:d9,-71.0\n",
      "5.4,4.48,4.2,0,00:13:ce:95:de:7e,-38.0,00:13:ce:95:e1:6f,-54.0,00:13:ce:8f:78:d9,-64.0,00:13:ce:8f:77:43,-68.0,00:13:ce:97:78:79,-80.0\n",
      "3.0,4.48,4.2,0,00:13:ce:95:de:7e,-38.0,00:13:ce:95:e1:6f,-54.0,00:13:ce:8f:78:d9,-64.0,00:13:ce:8f:77:43,-68.0,00:13:ce:97:78:79,-80.0\n",
      "5.4,5.48,4.2,0,00:13:ce:95:de:7e,-38.0,00:13:ce:95:e1:6f,-54.0,00:13:ce:8f:78:d9,-64.0,00:13:ce:8f:77:43,-68.0,00:13:ce:97:78:79,-80.0\n",
      "3.0,5.48,4.2,0,00:13:ce:95:de:7e,-38.0,00:13:ce:95:e1:6f,-54.0,00:13:ce:8f:78:d9,-64.0,00:13:ce:8f:77:43,-68.0,00:13:ce:97:78:79,-80.0\n",
      "5.4,6.48,4.2,0,00:13:ce:95:de:7e,-38.0,00:13:ce:95:e1:6f,-54.0,00:13:ce:8f:78:d9,-64.0,00:13:ce:8f:77:43,-68.0,00:13:ce:97:78:79,-80.0\n",
      "3.0,6.48,4.2,0,00:13:ce:95:de:7e,-38.0,00:13:ce:95:e1:6f,-54.0,00:13:ce:8f:78:d9,-64.0,00:13:ce:8f:77:43,-68.0,00:13:ce:97:78:79,-80.0\n",
      "7.0,1.0,4.2,0,00:13:ce:95:de:7e,-59.0,00:13:ce:95:e1:6f,-71.0,00:13:ce:8f:77:43,-66.0\n",
      "7.0,3.0,4.2,0,00:13:ce:95:de:7e,-59.0,00:13:ce:95:e1:6f,-72.0,00:13:ce:8f:77:43,-64.0,00:13:ce:8f:78:d9,-76.0\n",
      "7.5,5.0,4.2,0,00:13:ce:95:de:7e,-54.0,00:13:ce:8f:77:43,-63.0,00:13:ce:95:e1:6f,-67.0,00:13:ce:8f:78:d9,-73.0\n",
      "7.5,7.0,4.2,0,00:13:ce:95:de:7e,-58.0,00:13:ce:8f:77:43,-63.0,00:13:ce:95:e1:6f,-65.0,00:13:ce:8f:78:d9,-74.0\n",
      "7.5,9.0,4.2,0,00:13:ce:95:e1:6f,-61.0,00:13:ce:8f:77:43,-62.0,00:13:ce:95:de:7e,-52.0,00:13:ce:97:78:79,-78.0,00:13:ce:8f:78:d9,-74.0\n",
      "7.5,11.0,4.2,0,00:13:ce:97:78:79,-73.0,00:13:ce:95:e1:6f,-62.0,00:13:ce:95:de:7e,-47.0,00:13:ce:8f:78:d9,-68.0,00:13:ce:8f:77:43,-62.0\n",
      "8.0,13.0,4.2,0,00:13:ce:97:78:79,-75.0,00:13:ce:95:de:7e,-50.0,00:13:ce:95:e1:6f,-61.0,00:13:ce:8f:78:d9,-76.0,00:13:ce:8f:77:43,-73.0\n",
      "8.0,15.0,4.2,0,00:13:ce:97:78:79,-67.0,00:13:ce:95:de:7e,-53.0,00:13:ce:95:e1:6f,-56.0,00:13:ce:8f:78:d9,-70.0,00:13:ce:8f:77:43,-70.0\n",
      "9.0,12.0,4.2,0,00:13:ce:97:78:79,-79.0,00:13:ce:95:de:7e,-55.0,00:13:ce:95:e1:6f,-58.0,00:13:ce:8f:78:d9,-73.0,00:13:ce:8f:77:43,-74.0\n",
      "9.0,14.0,4.2,0,00:13:ce:95:de:7e,-56.0,00:13:ce:95:e1:6f,-61.0,00:13:ce:8f:77:43,-75.0,00:13:ce:97:78:79,-73.0,00:13:ce:8f:78:d9,-69.0\n",
      "9.0,16.0,4.2,0,00:13:ce:95:e1:6f,-56.0,00:13:ce:95:de:7e,-56.0,00:13:ce:8f:77:43,-75.0,00:13:ce:97:78:79,-76.0,00:13:ce:8f:78:d9,-76.0\n",
      "7.5,18.0,4.2,0,00:13:ce:95:de:7e,-60.0,00:13:ce:95:e1:6f,-63.0,00:13:ce:97:78:79,-78.0,00:13:ce:8f:78:d9,-70.0,00:13:ce:8f:77:43,-73.0\n",
      "7.5,20.0,4.2,0,00:13:ce:97:78:79,-75.0,00:13:ce:8f:78:d9,-76.0,00:13:ce:95:e1:6f,-54.0,00:13:ce:95:de:7e,-54.0,00:13:ce:8f:77:43,-71.0\n",
      "7.5,22.0,4.2,0,00:13:ce:95:de:7e,-55.0,00:13:ce:95:e1:6f,-56.0,00:13:ce:97:78:79,-70.0,00:13:ce:8f:78:d9,-69.0,00:13:ce:8f:77:43,-80.0\n",
      "8.0,24.0,4.2,0,00:13:ce:97:78:79,-74.0,00:13:ce:95:e1:6f,-50.0,00:13:ce:95:de:7e,-55.0,00:13:ce:8f:78:d9,-72.0,00:13:ce:8f:77:43,-73.0\n",
      "9.0,24.0,4.2,0,00:13:ce:95:e1:6f,-46.0,00:13:ce:8f:78:d9,-73.0,00:13:ce:95:de:7e,-54.0,00:13:ce:97:78:79,-66.0,00:13:ce:8f:77:43,-80.0\n",
      "7.5,26.0,4.2,0,00:13:ce:97:78:79,-67.0,00:13:ce:8f:78:d9,-70.0,00:13:ce:95:e1:6f,-51.0,00:13:ce:95:de:7e,-60.0\n",
      "7.5,28.0,4.2,0,00:13:ce:8f:78:d9,-66.0,00:13:ce:95:e1:6f,-48.0,00:13:ce:95:de:7e,-55.0,00:13:ce:97:78:79,-71.0\n"
     ]
    }
   ],
   "source": [
    "hi = FingerprintDatabase()\n",
    "hi.readingCSVdata()\n",
    "hi.rssiValcheck()\n",
    "hi.resultarray()\n",
    "hi.printing()"
   ]
  },
  {
   "cell_type": "markdown",
   "id": "e9acc60b",
   "metadata": {},
   "source": [
    "# ------------------------------------------------------------------------------------------------------------"
   ]
  },
  {
   "cell_type": "markdown",
   "id": "68140c0b",
   "metadata": {},
   "source": [
    "## Access Points data\n"
   ]
  },
  {
   "cell_type": "code",
   "execution_count": 27,
   "id": "bead113c",
   "metadata": {},
   "outputs": [],
   "source": [
    "class AccessPoint:\n",
    "    def __init__(self, mac: str, loc: SimpleLocation,  f: float, a: float, p: float):\n",
    "        self.mac_address = mac\n",
    "        self.location = loc\n",
    "        self.output_power_dbm = p\n",
    "        self.antenna_dbi = a\n",
    "        self.output_frequency_hz = f\n",
    "  \n",
    "    def distanceTo(self, point):\n",
    "        return math.sqrt((point[0] - self.location.x) ** 2 + (point[1] - self.location.y) ** 2 + (point[2] - self.location.z) ** 2)\n",
    "    \n",
    "        "
   ]
  },
  {
   "cell_type": "code",
   "execution_count": 28,
   "id": "f9223dfc",
   "metadata": {},
   "outputs": [],
   "source": [
    "AP = {\"00:13:ce:95:e1:6f\": AccessPoint(\"00:13:ce:95:e1:6f\", SimpleLocation(4.93, 25.81, 3.55), 2417000000, 5.0, 20.0),\n",
    "      \"00:13:ce:95:de:7e\": AccessPoint(\"00:13:ce:95:de:7e\", SimpleLocation(4.83, 10.88, 3.78), 2417000000, 5.0, 20.0), \n",
    "      \"00:13:ce:97:78:79\": AccessPoint(\"00:13:ce:97:78:79\", SimpleLocation(20.05, 28.31, 3.74), 2417000000, 5.0, 20.0), \n",
    "      \"00:13:ce:8f:77:43\": AccessPoint(\"00:13:ce:8f:77:43\", SimpleLocation(4.13, 7.085, 0.80), 2417000000, 5.0, 20.0), \n",
    "      \"00:13:ce:8f:78:d9\": AccessPoint(\"00:13:ce:8f:78:d9\", SimpleLocation(5.74, 30.35, 2.04), 2417000000, 5.0, 20.0)}"
   ]
  },
  {
   "cell_type": "code",
   "execution_count": 54,
   "id": "1780a4c4",
   "metadata": {},
   "outputs": [],
   "source": [
    "import math\n",
    "import numpy as np\n",
    "import scipy.optimize as optim\n",
    "\n",
    "def compute_FBCM_index(distance: float, rssi_values: RSSISample, ap: AccessPoint) -> float:\n",
    "    wavelen= 3e8 / ap.output_frequency_hz\n",
    "    wavelenlog=20 * math.log10(wavelen/ 4 * math.pi)\n",
    "    formula=( ap.output_power_dbm - rssi_values.rssi + ap.antenna_dbi + 2.1 + wavelenlog)/(10 * math.log10(distance))\n",
    "    return formula\n",
    "\n",
    "    \n",
    "def estimate_distance(rssi_avg: float, fbcm_index: float, ap: AccessPoint) -> float:\n",
    "    wavelen= 3e8 / ap.output_frequency_hz\n",
    "    pr= ( ap.output_power_dbm - rssi_avg + ap.antenna_dbi + 2.1 + 20*math.log10(wavelen) - 20*math.log10(4*math.pi))/(10.0 * fbcm_index)\n",
    "    distance =pow(10,pr)\n",
    "    return distance\n",
    "\n",
    "        \n",
    "def multilateration(distances: dict[str, float], ap_locations: dict[str, SimpleLocation]) -> SimpleLocation:\n",
    "    location = optim.least_squares(lambda x: [(ap_locations[i].distanceTo(distances[x]) - distances[i]) for i in ap_locations],\n",
    "                                   np.divide(np.sum([(ap_locations[l].location.x, ap_locations[l].location.y, ap_locations[l].location.z) for l in ap_locations], axis=0), len(ap_locations)),\n",
    "                                   method='lm').x\n",
    "    return SimpleLocation(location)\n"
   ]
  },
  {
   "cell_type": "code",
   "execution_count": 55,
   "id": "465737a0",
   "metadata": {},
   "outputs": [
    {
     "name": "stdout",
     "output_type": "stream",
     "text": [
      "18.069\n",
      "8.503\n",
      "10.546\n"
     ]
    }
   ],
   "source": [
    "dist=round(estimate_distance(-57.0, 3.5, AP[\"00:13:ce:95:e1:6f\"]),3)\n",
    "print(dist)\n",
    "rs=RSSISample(\"00:13:ce:95:e1:6f\",-100.0)\n",
    "i= round(compute_FBCM_index(dist, rs, AP[\"00:13:ce:95:e1:6f\"]),3)\n",
    "print(i)\n",
    "dist=round(estimate_distance(rs.rssi,round(i,3), AP[\"00:13:ce:95:e1:6f\"]),3)\n",
    "print(dist)\n",
    "#multilateration({\"00:13:ce:95:e1:6f\",6},AP)"
   ]
  },
  {
   "cell_type": "markdown",
   "id": "ba555805",
   "metadata": {},
   "source": [
    "# ------------------------------------------------------------------------------------------------------------"
   ]
  },
  {
   "cell_type": "markdown",
   "id": "ae134b83",
   "metadata": {},
   "source": [
    "## Simple matching"
   ]
  },
  {
   "cell_type": "code",
   "execution_count": 56,
   "id": "fb4e74c4",
   "metadata": {},
   "outputs": [],
   "source": [
    "from statistics import mean\n",
    "def rssi_distance(sample1: dict[str, float], sample2: dict[str, float]) -> float:\n",
    "    somme=[]\n",
    "    for i in sample1:\n",
    "        somme.append(abs(abs(sample1[i])-abs(sample2[i])))\n",
    "    return sum(somme)\n",
    "\n",
    "def simple_matching(db: FingerprintDatabase, sample: dict[str, float]) -> SimpleLocation:\n",
    "    mindist=1000\n",
    "    pos=0\n",
    "    for i in db.db:\n",
    "        dist=rssi_distance(sample,db.db[i])\n",
    "        if(dist<mindist):\n",
    "            mindist=dist\n",
    "            pos=i\n",
    "    return pos"
   ]
  },
  {
   "cell_type": "markdown",
   "id": "0da55246",
   "metadata": {},
   "source": [
    "## Histogram matching\n"
   ]
  },
  {
   "cell_type": "code",
   "execution_count": 18,
   "id": "0a22fd7d",
   "metadata": {},
   "outputs": [],
   "source": [
    "class NormHisto:\n",
    "    def __init__(self, histo: dict[int, float]):\n",
    "        self.histogram = histo\n",
    "        self.normalized_histogram = {}\n",
    "        self.normalize()\n",
    "    def normalize(self):\n",
    "        # normalize the histogram\n",
    "        sum_histo = 0\n",
    "        for i in self.histogram:\n",
    "            sum_histo += self.histogram[i]\n",
    "        for i in self.histogram:\n",
    "            self.normalized_histogram[i] = self.histogram[i] / sum_histo\n",
    "    def get_normalized_histogram(self):\n",
    "        return self.normalized_histogram\n",
    "    def get_histogram(self):\n",
    "        return self.histogram"
   ]
  },
  {
   "cell_type": "code",
   "execution_count": 20,
   "id": "2c0cc1d1",
   "metadata": {},
   "outputs": [],
   "source": [
    "def probability(histo1: NormHisto, histo2: NormHisto) -> float:\n",
    "    # Your code\n",
    "    pass\n",
    "\n",
    "def histogram_matching(db: FingerprintDatabase, sample: NormHisto) -> SimpleLocation:\n",
    "    # Your code (use probability)\n",
    "    pass"
   ]
  },
  {
   "cell_type": "markdown",
   "id": "4220a43f",
   "metadata": {},
   "source": [
    "## Gauss matching\n"
   ]
  },
  {
   "cell_type": "code",
   "execution_count": 37,
   "id": "a26367cc",
   "metadata": {},
   "outputs": [],
   "source": [
    "class GaussModel:\n",
    "    def __init__(self, avg: float, stddev: float):\n",
    "        self.average_rssi = avg\n",
    "        self.standard_deviation = stddev"
   ]
  },
  {
   "cell_type": "code",
   "execution_count": 22,
   "id": "8f362b1e",
   "metadata": {},
   "outputs": [],
   "source": [
    "def histogram_from_gauss(sample: GaussModel) -> RSSISample:\n",
    "    # Your code\n",
    "    pass"
   ]
  },
  {
   "cell_type": "markdown",
   "id": "9696db25",
   "metadata": {},
   "source": [
    "## Lab\n"
   ]
  },
  {
   "cell_type": "code",
   "execution_count": 57,
   "id": "4c218a44",
   "metadata": {},
   "outputs": [],
   "source": [
    "from flask import Flask\n",
    "app = Flask(__name__)\n",
    "@app.route('/')\n",
    "def hello():\n",
    "    return 'Hello, World!'"
   ]
  },
  {
   "cell_type": "code",
   "execution_count": null,
   "id": "0d69d7f0",
   "metadata": {},
   "outputs": [],
   "source": []
  }
 ],
 "metadata": {
  "kernelspec": {
   "display_name": "Python 3 (ipykernel)",
   "language": "python",
   "name": "python3"
  },
  "language_info": {
   "codemirror_mode": {
    "name": "ipython",
    "version": 3
   },
   "file_extension": ".py",
   "mimetype": "text/x-python",
   "name": "python",
   "nbconvert_exporter": "python",
   "pygments_lexer": "ipython3",
   "version": "3.9.7"
  }
 },
 "nbformat": 4,
 "nbformat_minor": 5
}
